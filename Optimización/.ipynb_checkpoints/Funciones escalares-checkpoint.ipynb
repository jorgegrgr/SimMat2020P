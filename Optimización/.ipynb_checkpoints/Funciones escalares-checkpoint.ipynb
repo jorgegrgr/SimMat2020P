{
 "cells": [
  {
   "cell_type": "markdown",
   "metadata": {
    "colab_type": "text",
    "id": "8vITRYq-Tdwq"
   },
   "source": [
    "# Optimización de funciones escalares diferenciables con `SymPy`\n",
    "\n",
    "<img style=\"float: right; margin: 0px 0px 15px 15px;\" src=\"https://upload.wikimedia.org/wikipedia/commons/thumb/b/b6/Extrema_example_es.svg/1200px-Extrema_example_es.svg.png\" width=\"300px\" height=\"100px\" />\n",
    "\n",
    "- Mediante optimización se obtienen soluciones elegantes tanto en teoría como en ciertas aplicaciones. \n",
    "- La teoría de optimización usa elementos comenzando con cálculo elemental y álgebra lineal básica, y luego se extiende con análisis funcional y convexo.\n",
    "- Las aplicaciones en optimización involucran ciencia, ingeniería, economía, finanzas e industria.\n",
    "- El amplio y creciente uso de la optimización lo hace escencial para estudiantes y profesionales de cualquier rama de la ciencia y la tecnología.\n",
    "\n",
    "**Referencia:**\n",
    "- http://www.math.uwaterloo.ca/~hwolkowi//henry/reports/talks.d/t06talks.d/06msribirs.d/optimportance.shtml\n",
    "\n"
   ]
  },
  {
   "cell_type": "markdown",
   "metadata": {
    "colab_type": "text",
    "id": "gTdZipcKTdwz"
   },
   "source": [
    "<img style=\"float: right; margin: 0px 0px 15px 15px;\" src=\"https://upload.wikimedia.org/wikipedia/commons/thumb/e/e7/OpenStreetMap_routing_service.png/300px-OpenStreetMap_routing_service.png\" width=\"300px\" height=\"100px\" />\n",
    "\n",
    "### Algunas aplicaciones son:\n",
    "\n",
    "1. **Ingeniería:**\n",
    " - Encontrar la composición de equilibrio de una mezcla de diferentes átomos.\n",
    " - Planeación de ruta para un robot (o vehículo aéreo no tripulado).\n",
    " - Planeación de la mano de obra óptima en una construcción o planta de producción.\n",
    " - Análisis conformacional - Isomería conformacional en modelado molecular\n",
    " - Desempeño en fermentación de productos.\n",
    " - Estimación de parámetros en bioquímica e ingeniería metabólica.\n",
    " \n",
    " \n",
    "2. **Distribución óptima de recursos:**\n",
    " - Distribución de rutas de vuelo.\n",
    " - Encontrar una dieta óptima.\n",
    " - Planeación de ruta óptima.\n",
    " \n",
    " \n",
    "3. **Optimización financiera:**\n",
    " - Administración de riesgos.\n",
    " - Portafolios de inversión.\n",
    " - Problema de maximización de la utilidad.\n",
    " - la calibración de modelos de precios de opciones para datos de mercado\n",
    " - la optimización de la función de utilidad de un agente"
   ]
  },
  {
   "cell_type": "markdown",
   "metadata": {
    "colab_type": "text",
    "id": "iwfHYBvETdw5"
   },
   "source": [
    "### <p style=\"color:green;\">En esta clase veremos aspectos básicos de optimización. Específicamente, veremos cómo obtener máximos y mínimos de una función escalar de una variable (como en cálculo diferencial).</p>\n",
    "\n",
    "<img style=\"float: center\" src=\"https://matematicasies.com/local/cache-vignettes/L337xH278/extremos-77d0a.png\" width=\"400px\" height=\"100px\" />"
   ]
  },
  {
   "cell_type": "markdown",
   "metadata": {
    "colab_type": "text",
    "id": "7uLPJbcWTdxA"
   },
   "source": [
    "___\n",
    "## 0. Librerías que usaremos\n",
    "<img style=\"float: center\" src=\"https://upload.wikimedia.org/wikipedia/commons/thumb/4/4a/Python3-powered_hello-world.svg/1000px-Python3-powered_hello-world.svg.png\" width=\"300px\" height=\"100px\" />\n"
   ]
  },
  {
   "cell_type": "markdown",
   "metadata": {
    "colab_type": "text",
    "id": "Ik4wEfofTdxF"
   },
   "source": [
    "### 0.1 `NumPy`\n",
    "\n",
    "<img style=\"float: right; margin: 0px 0px 15px 15px;\" src=\"http://www.numpy.org/_static/numpy_logo.png\" width=\"300px\" height=\"100px\" />\n",
    "\n",
    "`NumPy` (Numerical Python) es la librería fundamental para computación científica (numérica) con `Python`. Contiene, entre otras cosas:\n",
    "- un objeto tipo arreglo N-dimensional muy poderoso\n",
    "- funciones sofisticadas\n",
    "- funciones de álgebra lineal, transformada de Fourier y números aleatorios.\n",
    "\n",
    "Por lo anterior, `NumPy` es de amplio uso entre la comunidad científica e ingenieril (por su manejo de cantidades vectoriales). De la misma manera, se usa para guardar datos. Para nuestros propósitos, se puede usar libremente.\n",
    "\n",
    "**Referencia:**\n",
    "- http://www.numpy.org/"
   ]
  },
  {
   "cell_type": "markdown",
   "metadata": {
    "colab_type": "text",
    "id": "9O6a9kpVTdxK"
   },
   "source": [
    "`NumPy` ya viene incluido en la instalación estándar de Anaconda por defecto. Para comenzar a usarlo, solo debemos de importarlo:"
   ]
  },
  {
   "cell_type": "code",
   "execution_count": 1,
   "metadata": {
    "colab": {},
    "colab_type": "code",
    "id": "wBki0z8DTdxP"
   },
   "outputs": [],
   "source": [
    "# Importar librería numpy\n",
    "import numpy as np"
   ]
  },
  {
   "cell_type": "code",
   "execution_count": 2,
   "metadata": {},
   "outputs": [
    {
     "data": {
      "text/plain": [
       "3.141592653589793"
      ]
     },
     "execution_count": 2,
     "metadata": {},
     "output_type": "execute_result"
    }
   ],
   "source": [
    "np.pi"
   ]
  },
  {
   "cell_type": "code",
   "execution_count": 3,
   "metadata": {},
   "outputs": [
    {
     "data": {
      "text/plain": [
       "0.5403023058681398"
      ]
     },
     "execution_count": 3,
     "metadata": {},
     "output_type": "execute_result"
    }
   ],
   "source": [
    "np.cos(1)"
   ]
  },
  {
   "cell_type": "markdown",
   "metadata": {
    "colab_type": "text",
    "id": "6Ccg3wKhTdxg"
   },
   "source": [
    "### 0.2 `SymPy`\n",
    "\n",
    "<img style=\"float: right; margin: 0px 0px 15px 15px;\" src=\"http://www.sympy.org/static/images/logo.png\" width=\"300px\" height=\"100px\" />\n",
    "\n",
    "`SymPy` (Symbolic Python) es una librería de `Python` para matemáticas simbólicas. Su objetivo es convertirse en un sistema de álgebra computacional con las mejores características, manteniendo el código lo más simple posible para que sea comprensible.\n",
    "\n",
    "**Referencia:**\n",
    "- http://www.sympy.org/en/index.html"
   ]
  },
  {
   "cell_type": "markdown",
   "metadata": {
    "colab_type": "text",
    "id": "T5bDWTY_Tdxl"
   },
   "source": [
    "`SymPy` ya viene incluido en la instalación estándar de Anaconda por defecto. Para comenzar a usarlo, solo debemos de importarlo:"
   ]
  },
  {
   "cell_type": "code",
   "execution_count": 4,
   "metadata": {
    "colab": {},
    "colab_type": "code",
    "id": "cU5vlIkoTdxq"
   },
   "outputs": [],
   "source": [
    "#Importarmos la librería sympy\n",
    "import sympy as sp\n",
    "\n",
    "# Imprimir datos en formato Latex\n",
    "sp.init_printing(use_latex='mathjax')"
   ]
  },
  {
   "cell_type": "code",
   "execution_count": 5,
   "metadata": {},
   "outputs": [],
   "source": [
    "# Ayuda de la función\n",
    "sp.init_printing?"
   ]
  },
  {
   "cell_type": "code",
   "execution_count": 6,
   "metadata": {},
   "outputs": [
    {
     "name": "stdout",
     "output_type": "stream",
     "text": [
      "Help on function init_printing in module sympy.interactive.printing:\n",
      "\n",
      "init_printing(pretty_print=True, order=None, use_unicode=None, use_latex=None, wrap_line=None, num_columns=None, no_global=False, ip=None, euler=False, forecolor='Black', backcolor='Transparent', fontsize='10pt', latex_mode='equation*', print_builtin=True, str_printer=None, pretty_printer=None, latex_printer=None, **settings)\n",
      "    Initializes pretty-printer depending on the environment.\n",
      "    \n",
      "    Parameters\n",
      "    ==========\n",
      "    \n",
      "    pretty_print: boolean\n",
      "        If True, use pretty_print to stringify or the provided pretty\n",
      "        printer; if False, use sstrrepr to stringify or the provided string\n",
      "        printer.\n",
      "    order: string or None\n",
      "        There are a few different settings for this parameter:\n",
      "        lex (default), which is lexographic order;\n",
      "        grlex, which is graded lexographic order;\n",
      "        grevlex, which is reversed graded lexographic order;\n",
      "        old, which is used for compatibility reasons and for long expressions;\n",
      "        None, which sets it to lex.\n",
      "    use_unicode: boolean or None\n",
      "        If True, use unicode characters;\n",
      "        if False, do not use unicode characters.\n",
      "    use_latex: string, boolean, or None\n",
      "        If True, use default latex rendering in GUI interfaces (png and\n",
      "        mathjax);\n",
      "        if False, do not use latex rendering;\n",
      "        if 'png', enable latex rendering with an external latex compiler,\n",
      "        falling back to matplotlib if external compilation fails;\n",
      "        if 'matplotlib', enable latex rendering with matplotlib;\n",
      "        if 'mathjax', enable latex text generation, for example MathJax\n",
      "        rendering in IPython notebook or text rendering in LaTeX documents\n",
      "    wrap_line: boolean\n",
      "        If True, lines will wrap at the end; if False, they will not wrap\n",
      "        but continue as one line. This is only relevant if `pretty_print` is\n",
      "        True.\n",
      "    num_columns: int or None\n",
      "        If int, number of columns before wrapping is set to num_columns; if\n",
      "        None, number of columns before wrapping is set to terminal width.\n",
      "        This is only relevant if `pretty_print` is True.\n",
      "    no_global: boolean\n",
      "        If True, the settings become system wide;\n",
      "        if False, use just for this console/session.\n",
      "    ip: An interactive console\n",
      "        This can either be an instance of IPython,\n",
      "        or a class that derives from code.InteractiveConsole.\n",
      "    euler: boolean, optional, default=False\n",
      "        Loads the euler package in the LaTeX preamble for handwritten style\n",
      "        fonts (http://www.ctan.org/pkg/euler).\n",
      "    forecolor: string, optional, default='Black'\n",
      "        DVI setting for foreground color.\n",
      "    backcolor: string, optional, default='Transparent'\n",
      "        DVI setting for background color.\n",
      "    fontsize: string, optional, default='10pt'\n",
      "        A font size to pass to the LaTeX documentclass function in the\n",
      "        preamble.\n",
      "    latex_mode: string, optional, default='equation*'\n",
      "        The mode used in the LaTeX printer. Can be one of:\n",
      "        {'inline'|'plain'|'equation'|'equation*'}.\n",
      "    print_builtin: boolean, optional, default=True\n",
      "        If true then floats and integers will be printed. If false the\n",
      "        printer will only print SymPy types.\n",
      "    str_printer: function, optional, default=None\n",
      "        A custom string printer function. This should mimic\n",
      "        sympy.printing.sstrrepr().\n",
      "    pretty_printer: function, optional, default=None\n",
      "        A custom pretty printer. This should mimic sympy.printing.pretty().\n",
      "    latex_printer: function, optional, default=None\n",
      "        A custom LaTeX printer. This should mimic sympy.printing.latex().\n",
      "    \n",
      "    Examples\n",
      "    ========\n",
      "    \n",
      "    >>> from sympy.interactive import init_printing\n",
      "    >>> from sympy import Symbol, sqrt\n",
      "    >>> from sympy.abc import x, y\n",
      "    >>> sqrt(5)\n",
      "    sqrt(5)\n",
      "    >>> init_printing(pretty_print=True) # doctest: +SKIP\n",
      "    >>> sqrt(5) # doctest: +SKIP\n",
      "      ___\n",
      "    \\/ 5\n",
      "    >>> theta = Symbol('theta') # doctest: +SKIP\n",
      "    >>> init_printing(use_unicode=True) # doctest: +SKIP\n",
      "    >>> theta # doctest: +SKIP\n",
      "    \\u03b8\n",
      "    >>> init_printing(use_unicode=False) # doctest: +SKIP\n",
      "    >>> theta # doctest: +SKIP\n",
      "    theta\n",
      "    >>> init_printing(order='lex') # doctest: +SKIP\n",
      "    >>> str(y + x + y**2 + x**2) # doctest: +SKIP\n",
      "    x**2 + x + y**2 + y\n",
      "    >>> init_printing(order='grlex') # doctest: +SKIP\n",
      "    >>> str(y + x + y**2 + x**2) # doctest: +SKIP\n",
      "    x**2 + x + y**2 + y\n",
      "    >>> init_printing(order='grevlex') # doctest: +SKIP\n",
      "    >>> str(y * x**2 + x * y**2) # doctest: +SKIP\n",
      "    x**2*y + x*y**2\n",
      "    >>> init_printing(order='old') # doctest: +SKIP\n",
      "    >>> str(x**2 + y**2 + x + y) # doctest: +SKIP\n",
      "    x**2 + x + y**2 + y\n",
      "    >>> init_printing(num_columns=10) # doctest: +SKIP\n",
      "    >>> x**2 + x + y**2 + y # doctest: +SKIP\n",
      "    x + y +\n",
      "    x**2 + y**2\n",
      "\n"
     ]
    }
   ],
   "source": [
    "# Otra forma de pedir ayuda\n",
    "help(sp.init_printing)"
   ]
  },
  {
   "cell_type": "markdown",
   "metadata": {
    "colab_type": "text",
    "id": "gjOLQEXhTdx5"
   },
   "source": [
    "La funcionalidad de imprimir en formato LaTex que nos da `SymPy` mediante el proyecto `mathjax` hace de `SymPy` una herramienta muy atractiva..."
   ]
  },
  {
   "cell_type": "markdown",
   "metadata": {
    "colab_type": "text",
    "id": "UrAXbps6Tdx-"
   },
   "source": [
    "Notar que en `SymPy` y en `NumPy` existen funciones con el mismo nombre, pero reciben tipos de datos diferentes..."
   ]
  },
  {
   "cell_type": "code",
   "execution_count": 7,
   "metadata": {
    "colab": {},
    "colab_type": "code",
    "id": "r2ttVV2RTdyD"
   },
   "outputs": [
    {
     "data": {
      "text/latex": [
       "$$0.5403023058681398$$"
      ],
      "text/plain": [
       "0.5403023058681398"
      ]
     },
     "execution_count": 7,
     "metadata": {},
     "output_type": "execute_result"
    }
   ],
   "source": [
    "np.cos(1)"
   ]
  },
  {
   "cell_type": "code",
   "execution_count": 11,
   "metadata": {
    "colab": {},
    "colab_type": "code",
    "id": "grXC8tf2TdyU"
   },
   "outputs": [
    {
     "name": "stdout",
     "output_type": "stream",
     "text": [
      "cos(1) = 0.5403023058681398\n"
     ]
    }
   ],
   "source": [
    "print(sp.cos(1),'=',np.cos(1))"
   ]
  },
  {
   "cell_type": "markdown",
   "metadata": {
    "colab_type": "text",
    "id": "KeFOROWHTdyj"
   },
   "source": [
    "Explicar el uso de la sintaxis `from numpy import *` y sus peligros (**no recomendable**)."
   ]
  },
  {
   "cell_type": "code",
   "execution_count": 12,
   "metadata": {
    "colab": {},
    "colab_type": "code",
    "id": "QAEZBP_3Tdyn"
   },
   "outputs": [],
   "source": [
    "from numpy import *"
   ]
  },
  {
   "cell_type": "code",
   "execution_count": 13,
   "metadata": {},
   "outputs": [
    {
     "data": {
      "text/latex": [
       "$$0.5403023058681398$$"
      ],
      "text/plain": [
       "0.5403023058681398"
      ]
     },
     "execution_count": 13,
     "metadata": {},
     "output_type": "execute_result"
    }
   ],
   "source": [
    "cos(1)"
   ]
  },
  {
   "cell_type": "code",
   "execution_count": 14,
   "metadata": {},
   "outputs": [],
   "source": [
    "from sympy import *"
   ]
  },
  {
   "cell_type": "code",
   "execution_count": 1,
   "metadata": {},
   "outputs": [
    {
     "ename": "NameError",
     "evalue": "name 'cos' is not defined",
     "output_type": "error",
     "traceback": [
      "\u001b[1;31m---------------------------------------------------------------------------\u001b[0m",
      "\u001b[1;31mNameError\u001b[0m                                 Traceback (most recent call last)",
      "\u001b[1;32m<ipython-input-1-65422d23315c>\u001b[0m in \u001b[0;36m<module>\u001b[1;34m()\u001b[0m\n\u001b[1;32m----> 1\u001b[1;33m \u001b[0mcos\u001b[0m\u001b[1;33m(\u001b[0m\u001b[1;36m1\u001b[0m\u001b[1;33m)\u001b[0m\u001b[1;33m\u001b[0m\u001b[0m\n\u001b[0m",
      "\u001b[1;31mNameError\u001b[0m: name 'cos' is not defined"
     ]
    }
   ],
   "source": [
    "cos(1)"
   ]
  },
  {
   "cell_type": "markdown",
   "metadata": {
    "colab_type": "text",
    "id": "PApadjXXTdy1"
   },
   "source": [
    "### 0.3 `PyPlot` de `matplotlib`\n",
    "\n",
    "<img style=\"float: right; margin: 0px 0px 15px 15px;\" src=\"https://matplotlib.org/_static/logo2.svg\" width=\"300px\" height=\"100px\" />\n",
    "\n",
    "El módulo `PyPlot` de la librería `matplotlib` contiene funciones que nos permite generar una gran cantidad de gráficas rápidamente. Las funciones de este módulo están escritas con el mismo nombre que las funciones para graficar en `Matlab`.\n",
    "\n",
    "**Referencia:**\n",
    "- https://matplotlib.org/api/pyplot_summary.html"
   ]
  },
  {
   "cell_type": "code",
   "execution_count": 4,
   "metadata": {
    "colab": {},
    "colab_type": "code",
    "id": "jeyrG5yaTdy5"
   },
   "outputs": [],
   "source": [
    "# importar la librería para graficar\n",
    "import matplotlib.pyplot as plt\n",
    "\n",
    "# comando para que las gráficas salgan en la misma ventana\n",
    "%matplotlib inline"
   ]
  },
  {
   "cell_type": "markdown",
   "metadata": {
    "colab_type": "text",
    "id": "O8veHX8PTdzJ"
   },
   "source": [
    "## 1. Teorema de Fermat (análisis)\n",
    "\n",
    "Si una función $f(x)$ alcanza un máximo o mínimo local en $x=c$, y si la derivada $f'(c)$ existe en el punto $c$, entonces $f'(c) = 0$."
   ]
  },
  {
   "cell_type": "markdown",
   "metadata": {
    "colab_type": "text",
    "id": "ZEUcqZoPTdzO"
   },
   "source": [
    "### Ejemplo\n",
    "\n",
    "Sabemos que la función $f(x)=(x-2)^2$ tiene un mínimo global en $x=2$, pues\n",
    "\n",
    "$$f(x)=(x-2)^2\\geq0,\\qquad\\text{y}\\qquad f(x)=(x-2)^2=0 \\qquad\\text{si y solo si}\\qquad x=2.$$"
   ]
  },
  {
   "cell_type": "code",
   "execution_count": 5,
   "metadata": {
    "colab": {},
    "colab_type": "code",
    "id": "Z4TmcpqQTdzS"
   },
   "outputs": [
    {
     "data": {
      "text/plain": [
       "x"
      ]
     },
     "execution_count": 5,
     "metadata": {},
     "output_type": "execute_result"
    }
   ],
   "source": [
    "#Declarar variable x como real\n",
    "import sympy as sp\n",
    "sp.var('x',real=True)"
   ]
  },
  {
   "cell_type": "code",
   "execution_count": 8,
   "metadata": {
    "colab": {},
    "colab_type": "code",
    "id": "utKD7Eb9Tdzg"
   },
   "outputs": [
    {
     "data": {
      "text/latex": [
       "$$\\left(x - 2\\right)^{2}$$"
      ],
      "text/plain": [
       "       2\n",
       "(x - 2) "
      ]
     },
     "execution_count": 8,
     "metadata": {},
     "output_type": "execute_result"
    }
   ],
   "source": [
    "# Declarar función f y mostrar\n",
    "f=(x-2)**2\n",
    "f"
   ]
  },
  {
   "cell_type": "code",
   "execution_count": 7,
   "metadata": {},
   "outputs": [],
   "source": [
    "sp.init_printing(use_latex='mathjax')"
   ]
  },
  {
   "cell_type": "code",
   "execution_count": 9,
   "metadata": {
    "colab": {},
    "colab_type": "code",
    "id": "DzbpeakiTdzu"
   },
   "outputs": [
    {
     "data": {
      "text/latex": [
       "$$2 x - 4$$"
      ],
      "text/plain": [
       "2⋅x - 4"
      ]
     },
     "execution_count": 9,
     "metadata": {},
     "output_type": "execute_result"
    }
   ],
   "source": [
    "# Encontrar la primera derivada de la función f\n",
    "df=sp.diff(f,x)\n",
    "df"
   ]
  },
  {
   "cell_type": "code",
   "execution_count": 12,
   "metadata": {},
   "outputs": [],
   "source": [
    "sp.diff?"
   ]
  },
  {
   "cell_type": "code",
   "execution_count": 10,
   "metadata": {
    "colab": {},
    "colab_type": "code",
    "id": "614li90KTdz9"
   },
   "outputs": [
    {
     "data": {
      "text/latex": [
       "$$\\left [ 2\\right ]$$"
      ],
      "text/plain": [
       "[2]"
      ]
     },
     "execution_count": 10,
     "metadata": {},
     "output_type": "execute_result"
    }
   ],
   "source": [
    "#Resolver f'(x) = 0 y mostrar punto\n",
    "c=sp.solve(df,x)\n",
    "c"
   ]
  },
  {
   "cell_type": "code",
   "execution_count": 11,
   "metadata": {},
   "outputs": [],
   "source": [
    "sp.solve?"
   ]
  },
  {
   "cell_type": "code",
   "execution_count": 13,
   "metadata": {},
   "outputs": [
    {
     "data": {
      "text/latex": [
       "$$2$$"
      ],
      "text/plain": [
       "2"
      ]
     },
     "execution_count": 13,
     "metadata": {},
     "output_type": "execute_result"
    }
   ],
   "source": [
    "c[0]"
   ]
  },
  {
   "cell_type": "markdown",
   "metadata": {
    "colab_type": "text",
    "id": "zRcC_dQOTd0L"
   },
   "source": [
    "Veamos la gráfica..."
   ]
  },
  {
   "cell_type": "code",
   "execution_count": 14,
   "metadata": {
    "colab": {},
    "colab_type": "code",
    "id": "2X9Ahl2LTd0Q"
   },
   "outputs": [],
   "source": [
    "# Convertir función simbólica f a una función numérica\n",
    "fnum=sp.lambdify(x,f,modules='numpy')"
   ]
  },
  {
   "cell_type": "code",
   "execution_count": 15,
   "metadata": {},
   "outputs": [],
   "source": [
    "sp.lambdify?"
   ]
  },
  {
   "cell_type": "code",
   "execution_count": 16,
   "metadata": {},
   "outputs": [],
   "source": [
    "import numpy as np"
   ]
  },
  {
   "cell_type": "code",
   "execution_count": 17,
   "metadata": {
    "colab": {},
    "colab_type": "code",
    "id": "T5Fagnb5Td0i",
    "scrolled": false
   },
   "outputs": [],
   "source": [
    "# Definir coordenas x\n",
    "xnum=np.linspace(-1,4,100)"
   ]
  },
  {
   "cell_type": "code",
   "execution_count": 24,
   "metadata": {
    "colab": {},
    "colab_type": "code",
    "id": "0MV4bEgWTd03"
   },
   "outputs": [
    {
     "data": {
      "text/plain": [
       "[<matplotlib.lines.Line2D at 0x29c7f9b31d0>]"
      ]
     },
     "execution_count": 24,
     "metadata": {},
     "output_type": "execute_result"
    },
    {
     "data": {
      "image/png": "[encoded data removed]",
      "text/plain": [
       "<Figure size 432x288 with 1 Axes>"
      ]
     },
     "metadata": {},
     "output_type": "display_data"
    }
   ],
   "source": [
    "# Graficar:\n",
    "#    Creamos una ventana de gráficos\n",
    "plt.figure(figsize=(6,4))\n",
    "\n",
    "#    Gráfico\n",
    "ynum=fnum(xnum)\n",
    "plt.plot(xnum,ynum)\n",
    "plt.grid()\n",
    "plt.plot(c[0],fnum(c[0]),'or',ms=10)"
   ]
  },
  {
   "cell_type": "markdown",
   "metadata": {
    "colab_type": "text",
    "id": "aOJhHKhMTd1G"
   },
   "source": [
    "Ver diferencias entre f y f_num"
   ]
  },
  {
   "cell_type": "code",
   "execution_count": 27,
   "metadata": {
    "colab": {},
    "colab_type": "code",
    "id": "NorfGPXiTd1K"
   },
   "outputs": [
    {
     "data": {
      "text/latex": [
       "$$\\left(x - 2\\right)^{2}$$"
      ],
      "text/plain": [
       "       2\n",
       "(x - 2) "
      ]
     },
     "execution_count": 27,
     "metadata": {},
     "output_type": "execute_result"
    }
   ],
   "source": [
    "f"
   ]
  },
  {
   "cell_type": "code",
   "execution_count": 30,
   "metadata": {
    "colab": {},
    "colab_type": "code",
    "id": "OcEjknlCTd1V"
   },
   "outputs": [
    {
     "data": {
      "text/latex": [
       "$$\\left(x - 2\\right)^{2}$$"
      ],
      "text/plain": [
       "       2\n",
       "(x - 2) "
      ]
     },
     "execution_count": 30,
     "metadata": {},
     "output_type": "execute_result"
    }
   ],
   "source": [
    "fnum(x)"
   ]
  },
  {
   "cell_type": "code",
   "execution_count": 31,
   "metadata": {},
   "outputs": [
    {
     "data": {
      "text/plain": [
       "1"
      ]
     },
     "execution_count": 31,
     "metadata": {},
     "output_type": "execute_result"
    }
   ],
   "source": [
    "fnum(1)"
   ]
  },
  {
   "cell_type": "markdown",
   "metadata": {
    "colab_type": "text",
    "id": "67SkgnjhTd1g"
   },
   "source": [
    "### **Otra manera de hacer lo anterior**\n",
    "\n",
    "Revisemos el concepto de función en `Python`"
   ]
  },
  {
   "cell_type": "code",
   "execution_count": 32,
   "metadata": {},
   "outputs": [
    {
     "data": {
      "text/plain": [
       "<function numpy.<lambda>(_Dummy_141)>"
      ]
     },
     "execution_count": 32,
     "metadata": {},
     "output_type": "execute_result"
    }
   ],
   "source": [
    "fnum"
   ]
  },
  {
   "cell_type": "code",
   "execution_count": 33,
   "metadata": {
    "colab": {},
    "colab_type": "code",
    "id": "BoivXG0gTd1m"
   },
   "outputs": [],
   "source": [
    "#Definimos una función en Python\n",
    "def fun(x):\n",
    "    return (x-2)**2"
   ]
  },
  {
   "cell_type": "code",
   "execution_count": 35,
   "metadata": {
    "colab": {},
    "colab_type": "code",
    "id": "TM_LmcLKTd1y"
   },
   "outputs": [
    {
     "data": {
      "text/latex": [
       "$$0.8099999999999998$$"
      ],
      "text/plain": [
       "0.8099999999999998"
      ]
     },
     "execution_count": 35,
     "metadata": {},
     "output_type": "execute_result"
    }
   ],
   "source": [
    "# Evaluacion numérica\n",
    "fun(1.1)"
   ]
  },
  {
   "cell_type": "code",
   "execution_count": 36,
   "metadata": {
    "colab": {},
    "colab_type": "code",
    "id": "Do1Ssu77Td1_"
   },
   "outputs": [
    {
     "data": {
      "text/latex": [
       "$$\\left(x - 2\\right)^{2}$$"
      ],
      "text/plain": [
       "       2\n",
       "(x - 2) "
      ]
     },
     "execution_count": 36,
     "metadata": {},
     "output_type": "execute_result"
    }
   ],
   "source": [
    "# Evaluación simbólica\n",
    "fun(x)"
   ]
  },
  {
   "cell_type": "code",
   "execution_count": 37,
   "metadata": {},
   "outputs": [
    {
     "data": {
      "text/plain": [
       "<function __main__.fun(x)>"
      ]
     },
     "execution_count": 37,
     "metadata": {},
     "output_type": "execute_result"
    }
   ],
   "source": [
    "fun"
   ]
  },
  {
   "cell_type": "code",
   "execution_count": 40,
   "metadata": {
    "colab": {},
    "colab_type": "code",
    "id": "qThMF1EgTd2K"
   },
   "outputs": [
    {
     "data": {
      "text/latex": [
       "$$2 x - 4$$"
      ],
      "text/plain": [
       "2⋅x - 4"
      ]
     },
     "execution_count": 40,
     "metadata": {},
     "output_type": "execute_result"
    }
   ],
   "source": [
    "# Derivada\n",
    "dfun=sp.diff(fun(x),x)\n",
    "dfun"
   ]
  },
  {
   "cell_type": "code",
   "execution_count": 41,
   "metadata": {
    "colab": {},
    "colab_type": "code",
    "id": "ryUC0uBJTd2X"
   },
   "outputs": [],
   "source": [
    "# Solución para x de la derivada igual a cero\n",
    "c=sp.solve(dfun,x)"
   ]
  },
  {
   "cell_type": "code",
   "execution_count": 44,
   "metadata": {
    "colab": {},
    "colab_type": "code",
    "id": "8SIVM1kGTd2l"
   },
   "outputs": [
    {
     "data": {
      "text/plain": [
       "[<matplotlib.lines.Line2D at 0x29c7fb64d30>]"
      ]
     },
     "execution_count": 44,
     "metadata": {},
     "output_type": "execute_result"
    },
    {
     "data": {
      "image/png": "[encoded data removed]",
      "text/plain": [
       "<Figure size 432x288 with 1 Axes>"
      ]
     },
     "metadata": {},
     "output_type": "display_data"
    }
   ],
   "source": [
    "# Graficar\n",
    "xnum=np.linspace(-2,6,100)\n",
    "plt.plot(xnum,fun(xnum))"
   ]
  },
  {
   "cell_type": "markdown",
   "metadata": {
    "colab_type": "text",
    "id": "nJKkfvTVTd2y"
   },
   "source": [
    "**El converso del teorema anterior no es cierto.**\n",
    "\n",
    "### Actividad\n",
    "Considere $g(x)=(x-2)^3$. \n",
    "- Usando `sympy`, muestre que $g'(2)=0$.\n",
    "- Sin embargo, descartar que $x=2$ es un extremo de $g(x)$ viendo su **gráfica**."
   ]
  },
  {
   "cell_type": "code",
   "execution_count": 0,
   "metadata": {
    "colab": {},
    "colab_type": "code",
    "id": "aUErJxXjTd21"
   },
   "outputs": [],
   "source": []
  },
  {
   "cell_type": "markdown",
   "metadata": {
    "colab_type": "text",
    "id": "5cHqWJmcTd3A"
   },
   "source": [
    "## 2. Criterio de la segunda derivada\n",
    "\n",
    "Sea $f(x)$ una función tal que $f’(c)=0$ y cuya segunda derivada existe en un intervalo abierto que contiene a $c$.\n",
    "- Si $f’’(c)>0$, entonces $f(c)$ es un mínimo relativo.\n",
    "- Si $f’’(c)<0$, entonces $f(c)$ es un máximo relativo.\n",
    "- Si $f’’(c)=0$, entonces el criterio no decide. "
   ]
  },
  {
   "cell_type": "markdown",
   "metadata": {
    "colab_type": "text",
    "id": "l4NcYjskTd3G"
   },
   "source": [
    "### Ejemplo\n",
    "\n",
    "Mostrar, usando `sympy`, que la función $f(x)=(x-2)^2$ tiene un mínimo relativo en $x=2$.\n",
    "\n",
    "Ya vimos que $f'(2)=0$. Notemos que:"
   ]
  },
  {
   "cell_type": "code",
   "execution_count": 1,
   "metadata": {},
   "outputs": [],
   "source": [
    "import numpy as np                      # Librería numérica\n",
    "import sympy as sp                      # Librería simbólica\n",
    "import matplotlib.pyplot as plt         # Librería gráfica\n",
    "\n",
    "sp.init_printing(use_latex='mathjax')   # Ecuaciones como en Latex\n",
    "%matplotlib inline                      # Gráficas en línea\n",
    "\n",
    "sp.var('x',real=True)                   # Variable simbólica 'x'"
   ]
  },
  {
   "cell_type": "code",
   "execution_count": 3,
   "metadata": {
    "colab": {},
    "colab_type": "code",
    "id": "EP-22-1BTd3K"
   },
   "outputs": [],
   "source": [
    "# Definiendo la función f(x)\n",
    "def f(x):\n",
    "    return (x-2)**2"
   ]
  },
  {
   "cell_type": "code",
   "execution_count": 4,
   "metadata": {
    "colab": {},
    "colab_type": "code",
    "id": "KUoYAgfwTd3Y"
   },
   "outputs": [
    {
     "data": {
      "text/latex": [
       "$$\\left [ 2\\right ]$$"
      ],
      "text/plain": [
       "[2]"
      ]
     },
     "execution_count": 4,
     "metadata": {},
     "output_type": "execute_result"
    }
   ],
   "source": [
    "# Encontrando el punto crítico:\n",
    "#     Se deriva f(x)\n",
    "df=sp.diff(f(x),x)\n",
    "\n",
    "#     Se resuelve para df(x)=0\n",
    "c=sp.solve(df,x)\n",
    "c"
   ]
  },
  {
   "cell_type": "code",
   "execution_count": 6,
   "metadata": {
    "colab": {},
    "colab_type": "code",
    "id": "20JDT7vqTd3m"
   },
   "outputs": [
    {
     "data": {
      "text/latex": [
       "$$2$$"
      ],
      "text/plain": [
       "2"
      ]
     },
     "execution_count": 6,
     "metadata": {},
     "output_type": "execute_result"
    }
   ],
   "source": [
    "# Derivar df(x)\n",
    "#ddf=sp.diff(df,x)\n",
    "#ddf\n",
    "\n",
    "# Derivar dos veces f(x)\n",
    "ddf=sp.diff(f(x),x,2)\n",
    "ddf"
   ]
  },
  {
   "cell_type": "markdown",
   "metadata": {
    "colab_type": "text",
    "id": "IMiFjnaMTd32"
   },
   "source": [
    "Por tanto, por el criterio de la segunda derivada, $f(2)=0$ es un mínimo relativo (en efecto, el mínimo global)."
   ]
  },
  {
   "cell_type": "markdown",
   "metadata": {
    "colab_type": "text",
    "id": "LRddFOZBTd36"
   },
   "source": [
    "### Ejemplo\n",
    "¿Qué pasa con $g(x)=(x-2)^3$ al intentar utilizar el criterio de la segunda derivada? (usar `sympy`)."
   ]
  },
  {
   "cell_type": "code",
   "execution_count": 7,
   "metadata": {
    "colab": {},
    "colab_type": "code",
    "id": "Bl0dA3_VTd4A"
   },
   "outputs": [],
   "source": [
    "# Definimos la función\n",
    "def g(x):\n",
    "    return (x-2)**3"
   ]
  },
  {
   "cell_type": "code",
   "execution_count": 9,
   "metadata": {
    "colab": {},
    "colab_type": "code",
    "id": "eZlJYLeUTd4O"
   },
   "outputs": [
    {
     "data": {
      "text/latex": [
       "$$0$$"
      ],
      "text/plain": [
       "0"
      ]
     },
     "execution_count": 9,
     "metadata": {},
     "output_type": "execute_result"
    }
   ],
   "source": [
    "# Encontramos el punto crítico\n",
    "dg=sp.diff(g(x),x)\n",
    "cg=sp.solve(dg,x)\n",
    "\n",
    "# Segunda derivada evaluada en el punto crítico\n",
    "ddg=sp.diff(g(x),x,2)\n",
    "# Sustituimos x=cg[0] en la segunda derivada\n",
    "ddg.subs(x,cg[0])"
   ]
  },
  {
   "cell_type": "code",
   "execution_count": 18,
   "metadata": {
    "colab": {},
    "colab_type": "code",
    "id": "j5e2gizoTd4Z"
   },
   "outputs": [
    {
     "data": {
      "image/png": "[encoded data removed]",
      "text/plain": [
       "<Figure size 432x288 with 1 Axes>"
      ]
     },
     "metadata": {},
     "output_type": "display_data"
    }
   ],
   "source": [
    "# Graficar\n",
    "xnum=np.linspace(-2,6,100)\n",
    "plt.plot(xnum,g(xnum),'k--')\n",
    "plt.plot(cg[0],g(cg[0]),'r*',ms=15)\n",
    "plt.grid()"
   ]
  },
  {
   "cell_type": "markdown",
   "metadata": {
    "colab_type": "text",
    "id": "rQXsRXMZTd4k"
   },
   "source": [
    "Como $g''(2)=0$ entonces el criterio de la segunda derivada no concluye."
   ]
  },
  {
   "cell_type": "markdown",
   "metadata": {
    "colab_type": "text",
    "id": "EtrhIC04Td4n"
   },
   "source": [
    "### Actividad\n",
    "\n",
    "¿Qué pasa con $h(x)=(x-2)^4$ al intentar utilizar el criterio de la segunda derivada?."
   ]
  },
  {
   "cell_type": "code",
   "execution_count": 5,
   "metadata": {
    "colab": {},
    "colab_type": "code",
    "id": "Ye_3HLTsTd4q"
   },
   "outputs": [
    {
     "data": {
      "text/latex": [
       "$$0$$"
      ],
      "text/plain": [
       "0"
      ]
     },
     "execution_count": 5,
     "metadata": {},
     "output_type": "execute_result"
    }
   ],
   "source": [
    "def h(x):\n",
    "    return (x-2)**4\n",
    "dh=sp.diff(h(x),x)\n",
    "ch=sp.solve(dh,x)\n",
    "ddh=sp.diff(h(x),x,2)\n",
    "ddh.subs(x,ch[0])"
   ]
  },
  {
   "cell_type": "code",
   "execution_count": 24,
   "metadata": {},
   "outputs": [
    {
     "data": {
      "image/png": "[encoded data removed]",
      "text/plain": [
       "<Figure size 432x288 with 1 Axes>"
      ]
     },
     "metadata": {},
     "output_type": "display_data"
    }
   ],
   "source": [
    "plt.plot(xnum,h(xnum))\n",
    "plt.plot(ch[0],h(ch[0]),'*',ms=15)\n",
    "plt.grid()"
   ]
  },
  {
   "cell_type": "code",
   "execution_count": 6,
   "metadata": {},
   "outputs": [
    {
     "data": {
      "text/latex": [
       "$$\\left ( 256, \\quad 256, \\quad 0\\right )$$"
      ],
      "text/plain": [
       "(256, 256, 0)"
      ]
     },
     "execution_count": 6,
     "metadata": {},
     "output_type": "execute_result"
    }
   ],
   "source": [
    "h(-2),h(6),h(ch[0])"
   ]
  },
  {
   "cell_type": "code",
   "execution_count": 9,
   "metadata": {},
   "outputs": [
    {
     "data": {
      "text/latex": [
       "$$\\left [ 5, \\quad 6, \\quad 7, \\quad 8\\right ]$$"
      ],
      "text/plain": [
       "[5, 6, 7, 8]"
      ]
     },
     "execution_count": 9,
     "metadata": {},
     "output_type": "execute_result"
    }
   ],
   "source": [
    "# Ejemplo de listas\n",
    "c=[5,6,7,8]\n",
    "c"
   ]
  },
  {
   "cell_type": "code",
   "execution_count": 10,
   "metadata": {},
   "outputs": [
    {
     "data": {
      "text/latex": [
       "$$5$$"
      ],
      "text/plain": [
       "5"
      ]
     },
     "execution_count": 10,
     "metadata": {},
     "output_type": "execute_result"
    }
   ],
   "source": [
    "c[0]"
   ]
  },
  {
   "cell_type": "code",
   "execution_count": 11,
   "metadata": {},
   "outputs": [
    {
     "data": {
      "text/latex": [
       "$$\\left [ 6, \\quad 7\\right ]$$"
      ],
      "text/plain": [
       "[6, 7]"
      ]
     },
     "execution_count": 11,
     "metadata": {},
     "output_type": "execute_result"
    }
   ],
   "source": [
    "c[1:3]"
   ]
  },
  {
   "cell_type": "markdown",
   "metadata": {
    "colab_type": "text",
    "id": "ADXxt3lLTd43"
   },
   "source": [
    "## 3. Método para determinar extremos absolutos de una función continua y=f(x) en [a,b] \n",
    "\n",
    "- Determinar todos los valores críticos $c_1, c_2, c_3, \\dots, c_n$ en $(a,b)$.\n",
    "- Evaluar $f$ en todos los valores críticos y en los extremos $x=a$ y $x=b$.\n",
    "- El más grande y el más pequeño de los valores de la lista $f(a), f(b), f(c_1), f(c_2), \\dots, f(c_n)$ son el máximo absoluto y el mínimo absoluto, respectivamente, de $f$ en el intervalo $[a,b]$."
   ]
  },
  {
   "cell_type": "markdown",
   "metadata": {
    "colab_type": "text",
    "collapsed": true,
    "id": "HiedyU4lTd5B"
   },
   "source": [
    "### Ejemplo\n",
    "\n",
    "Determinar los extremos absolutos de $f(x)=x^2-2x+5$ en $\\left[0,3\\right]$.\n",
    "\n",
    "Obtenemos los puntos críticos de $f$ en $\\left[0,3\\right]$:"
   ]
  },
  {
   "cell_type": "code",
   "execution_count": 12,
   "metadata": {
    "colab": {},
    "colab_type": "code",
    "id": "H_hP3LEcTd5G"
   },
   "outputs": [],
   "source": [
    "def f(x):\n",
    "    return x**2-2*x+5"
   ]
  },
  {
   "cell_type": "code",
   "execution_count": 13,
   "metadata": {
    "colab": {},
    "colab_type": "code",
    "id": "XqpwfUVLTd5P"
   },
   "outputs": [
    {
     "data": {
      "text/latex": [
       "$$2 x - 2$$"
      ],
      "text/plain": [
       "2⋅x - 2"
      ]
     },
     "execution_count": 13,
     "metadata": {},
     "output_type": "execute_result"
    }
   ],
   "source": [
    "df=sp.diff(f(x),x)\n",
    "df"
   ]
  },
  {
   "cell_type": "code",
   "execution_count": 14,
   "metadata": {
    "colab": {},
    "colab_type": "code",
    "id": "ouT6SNWMTd5Y"
   },
   "outputs": [
    {
     "data": {
      "text/latex": [
       "$$\\left [ 1\\right ]$$"
      ],
      "text/plain": [
       "[1]"
      ]
     },
     "execution_count": 14,
     "metadata": {},
     "output_type": "execute_result"
    }
   ],
   "source": [
    "c=sp.solve(df,x)\n",
    "c"
   ]
  },
  {
   "cell_type": "markdown",
   "metadata": {
    "colab_type": "text",
    "id": "wDmIoTF7Td5h"
   },
   "source": [
    "Evaluamos $f$ en los extremos y en los puntos críticos:"
   ]
  },
  {
   "cell_type": "code",
   "execution_count": 15,
   "metadata": {
    "colab": {},
    "colab_type": "code",
    "id": "V1KOKyf3Td5k"
   },
   "outputs": [
    {
     "data": {
      "text/latex": [
       "$$5$$"
      ],
      "text/plain": [
       "5"
      ]
     },
     "execution_count": 15,
     "metadata": {},
     "output_type": "execute_result"
    }
   ],
   "source": [
    "f(0)"
   ]
  },
  {
   "cell_type": "code",
   "execution_count": 16,
   "metadata": {
    "colab": {},
    "colab_type": "code",
    "id": "epc0BIrSTd53"
   },
   "outputs": [
    {
     "data": {
      "text/latex": [
       "$$8$$"
      ],
      "text/plain": [
       "8"
      ]
     },
     "execution_count": 16,
     "metadata": {},
     "output_type": "execute_result"
    }
   ],
   "source": [
    "f(3)"
   ]
  },
  {
   "cell_type": "code",
   "execution_count": 17,
   "metadata": {
    "colab": {},
    "colab_type": "code",
    "id": "I07CgJWJTd6I"
   },
   "outputs": [
    {
     "data": {
      "text/latex": [
       "$$4$$"
      ],
      "text/plain": [
       "4"
      ]
     },
     "execution_count": 17,
     "metadata": {},
     "output_type": "execute_result"
    }
   ],
   "source": [
    "f(c[0])"
   ]
  },
  {
   "cell_type": "markdown",
   "metadata": {
    "colab_type": "text",
    "id": "iVZJEjM3Td6Q"
   },
   "source": [
    "### Actividad\n",
    "Determinar los valores extremos absolutos de  $f(x) = (x-3)^2(x+3)^2$ en el intervalo $[1,\\,4]$, usando `sympy`. Mostrar en una gráfica."
   ]
  },
  {
   "cell_type": "code",
   "execution_count": 19,
   "metadata": {
    "colab": {},
    "colab_type": "code",
    "id": "TsrbFBjmTd6X"
   },
   "outputs": [],
   "source": [
    "def f(x):\n",
    "    return (x-3)**2*(x+3)**2"
   ]
  },
  {
   "cell_type": "code",
   "execution_count": 20,
   "metadata": {
    "colab": {},
    "colab_type": "code",
    "id": "aG8kEGmyTd6h"
   },
   "outputs": [
    {
     "data": {
      "text/latex": [
       "$$\\left [ -3, \\quad 0, \\quad 3\\right ]$$"
      ],
      "text/plain": [
       "[-3, 0, 3]"
      ]
     },
     "execution_count": 20,
     "metadata": {},
     "output_type": "execute_result"
    }
   ],
   "source": [
    "df=sp.diff(f(x),x)\n",
    "c=sp.solve(df,x)\n",
    "c"
   ]
  },
  {
   "cell_type": "code",
   "execution_count": 22,
   "metadata": {
    "colab": {},
    "colab_type": "code",
    "id": "TwZ1muMuTd61"
   },
   "outputs": [
    {
     "data": {
      "text/latex": [
       "$$\\left ( 64, \\quad 49, \\quad 0, \\quad 81, \\quad 0\\right )$$"
      ],
      "text/plain": [
       "(64, 49, 0, 81, 0)"
      ]
     },
     "execution_count": 22,
     "metadata": {},
     "output_type": "execute_result"
    }
   ],
   "source": [
    "f(1),f(4),f(c[0]),f(c[1]),f(c[2])"
   ]
  },
  {
   "cell_type": "code",
   "execution_count": 27,
   "metadata": {},
   "outputs": [
    {
     "data": {
      "image/png": "[encoded data removed]",
      "text/plain": [
       "<Figure size 432x288 with 1 Axes>"
      ]
     },
     "metadata": {},
     "output_type": "display_data"
    }
   ],
   "source": [
    "xnum=np.linspace(0.9,4.1,200)\n",
    "plt.plot(xnum,f(xnum))\n",
    "plt.plot(c[2],f(c[2]),'*',ms=10)\n",
    "plt.grid()"
   ]
  },
  {
   "cell_type": "markdown",
   "metadata": {
    "colab_type": "text",
    "id": "e0CgigELTd6-"
   },
   "source": [
    "### En varias variables...\n",
    "\n",
    "El procedimiento es análogo. \n",
    "\n",
    "Si una función $f:\\mathbb{R}^n\\to\\mathbb{R}$ alcanza un máximo o mínimo local en $\\boldsymbol{x}=\\boldsymbol{c}\\in\\mathbb{R}^n$, y $f$ es diferenciable en el punto $\\boldsymbol{x}=\\boldsymbol{c}$, entonces $\\left.\\frac{\\partial f}{\\partial \\boldsymbol{x}}\\right|_{\\boldsymbol{x}=\\boldsymbol{c}}=\\boldsymbol{0}$ (todas las derivadas parciales en el punto $\\boldsymbol{x}=\\boldsymbol{c}$ son cero).\n",
    "\n",
    "**Criterio de la segunda derivada:** para ver si es máximo o mínimo, se toma la segunda derivada (matriz Hessiana) y se verifica definición negativa o positiva, respectivamente.\n",
    "\n",
    "Si se restringe a cierta región, hay ciertas técnicas. La más general, pero también la más compleja es la de **multiplicadores de Lagrange**."
   ]
  },
  {
   "cell_type": "markdown",
   "metadata": {
    "colab_type": "text",
    "id": "Gm1hrxEXTd7B"
   },
   "source": [
    "**Ejemplo:** Determinar los valores extremo de $z(x,y)= (x-3)^2 + (y+5)^2$ usando el criterio de la segunda derivada y corroborarlo con la gráfica."
   ]
  },
  {
   "cell_type": "code",
   "execution_count": 28,
   "metadata": {
    "colab": {},
    "colab_type": "code",
    "id": "f5MSOxipTd7D"
   },
   "outputs": [],
   "source": [
    "def z(x,y):\n",
    "    return (x-3)**2+(y+5)**2"
   ]
  },
  {
   "cell_type": "code",
   "execution_count": 29,
   "metadata": {},
   "outputs": [
    {
     "data": {
      "text/latex": [
       "$$y$$"
      ],
      "text/plain": [
       "y"
      ]
     },
     "execution_count": 29,
     "metadata": {},
     "output_type": "execute_result"
    }
   ],
   "source": [
    "sp.var('y',real=True)"
   ]
  },
  {
   "cell_type": "code",
   "execution_count": 30,
   "metadata": {},
   "outputs": [
    {
     "data": {
      "text/latex": [
       "$$\\left(x - 3\\right)^{2} + \\left(y + 5\\right)^{2}$$"
      ],
      "text/plain": [
       "       2          2\n",
       "(x - 3)  + (y + 5) "
      ]
     },
     "execution_count": 30,
     "metadata": {},
     "output_type": "execute_result"
    }
   ],
   "source": [
    "z(x,y)"
   ]
  },
  {
   "cell_type": "code",
   "execution_count": 31,
   "metadata": {},
   "outputs": [
    {
     "data": {
      "text/latex": [
       "$$\\left ( 2 x - 6, \\quad 2 y + 10\\right )$$"
      ],
      "text/plain": [
       "(2⋅x - 6, 2⋅y + 10)"
      ]
     },
     "execution_count": 31,
     "metadata": {},
     "output_type": "execute_result"
    }
   ],
   "source": [
    "df_x=sp.diff(z(x,y),x)\n",
    "df_y=sp.diff(z(x,y),y)\n",
    "df_x,df_y"
   ]
  },
  {
   "cell_type": "code",
   "execution_count": 33,
   "metadata": {},
   "outputs": [
    {
     "data": {
      "text/latex": [
       "$$\\left ( \\left [ 3\\right ], \\quad \\left [ -5\\right ]\\right )$$"
      ],
      "text/plain": [
       "([3], [-5])"
      ]
     },
     "execution_count": 33,
     "metadata": {},
     "output_type": "execute_result"
    }
   ],
   "source": [
    "cx=sp.solve(df_x,x)\n",
    "cy=sp.solve(df_y,y)\n",
    "cx,cy"
   ]
  },
  {
   "cell_type": "code",
   "execution_count": 35,
   "metadata": {},
   "outputs": [
    {
     "data": {
      "text/latex": [
       "$$\\left ( 2, \\quad 2, \\quad 0\\right )$$"
      ],
      "text/plain": [
       "(2, 2, 0)"
      ]
     },
     "execution_count": 35,
     "metadata": {},
     "output_type": "execute_result"
    }
   ],
   "source": [
    "ddf_x=sp.diff(df_x,x)\n",
    "ddf_y=sp.diff(df_y,y)\n",
    "ddf_xy=sp.diff(df_x,y)\n",
    "ddf_x,ddf_y,ddf_xy"
   ]
  }
 ],
 "metadata": {
  "colab": {
   "collapsed_sections": [],
   "name": "Funciones escalares.ipynb",
   "provenance": []
  },
  "kernelspec": {
   "display_name": "Python 3",
   "language": "python",
   "name": "python3"
  },
  "language_info": {
   "codemirror_mode": {
    "name": "ipython",
    "version": 3
   },
   "file_extension": ".py",
   "mimetype": "text/x-python",
   "name": "python",
   "nbconvert_exporter": "python",
   "pygments_lexer": "ipython3",
   "version": "3.6.6"
  }
 },
 "nbformat": 4,
 "nbformat_minor": 1
}
